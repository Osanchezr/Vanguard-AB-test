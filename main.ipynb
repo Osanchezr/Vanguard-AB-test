{
 "cells": [
  {
   "cell_type": "code",
   "execution_count": 7,
   "metadata": {},
   "outputs": [],
   "source": [
    "import warnings\n",
    "warnings.filterwarnings('ignore')\n",
    "import pandas as pd\n",
    "from functions import *"
   ]
  },
  {
   "cell_type": "markdown",
   "metadata": {},
   "source": [
    "# 1. Importar data sets"
   ]
  },
  {
   "cell_type": "code",
   "execution_count": 8,
   "metadata": {},
   "outputs": [],
   "source": [
    "# Cargar los datasets\n",
    "df_final_demo = pd.read_csv(\"df_final_demo.txt\")\n",
    "df_final_experiment_clients = pd.read_csv(\"df_final_experiment_clients.txt\")\n",
    "df_final_web_data_pt_1 = pd.read_csv(\"df_final_web_data_pt_1.txt\")\n",
    "df_final_web_data_pt_2 = pd.read_csv(\"df_final_web_data_pt_2.txt\")\n"
   ]
  },
  {
   "cell_type": "markdown",
   "metadata": {},
   "source": [
    "# 2. Limpieza y union de data sets "
   ]
  },
  {
   "cell_type": "code",
   "execution_count": 9,
   "metadata": {},
   "outputs": [],
   "source": [
    "# Limpiar los datos\n",
    "df_demo_clean = clean_demo_data(df_final_demo)\n",
    "df_experiment_clean = clean_experiment_clients_data(df_final_experiment_clients)\n",
    "df_web_clean = clean_web_data(df_final_web_data_pt_1, df_final_web_data_pt_2)\n",
    "\n",
    "# Unir los datasets limpios\n",
    "df_final = merge_datasets(df_web_clean, df_experiment_clean, df_demo_clean)"
   ]
  },
  {
   "cell_type": "code",
   "execution_count": 10,
   "metadata": {},
   "outputs": [
    {
     "data": {
      "text/html": [
       "<div>\n",
       "<style scoped>\n",
       "    .dataframe tbody tr th:only-of-type {\n",
       "        vertical-align: middle;\n",
       "    }\n",
       "\n",
       "    .dataframe tbody tr th {\n",
       "        vertical-align: top;\n",
       "    }\n",
       "\n",
       "    .dataframe thead th {\n",
       "        text-align: right;\n",
       "    }\n",
       "</style>\n",
       "<table border=\"1\" class=\"dataframe\">\n",
       "  <thead>\n",
       "    <tr style=\"text-align: right;\">\n",
       "      <th></th>\n",
       "      <th>client_id</th>\n",
       "      <th>visitor_id</th>\n",
       "      <th>visit_id</th>\n",
       "      <th>process_step</th>\n",
       "      <th>date_time</th>\n",
       "      <th>is_complete</th>\n",
       "      <th>time_before_step</th>\n",
       "      <th>time_diff_step</th>\n",
       "      <th>prev_process_step</th>\n",
       "      <th>is_error</th>\n",
       "      <th>Variation</th>\n",
       "      <th>clnt_tenure_yr</th>\n",
       "      <th>clnt_age</th>\n",
       "      <th>gendr</th>\n",
       "      <th>num_accts</th>\n",
       "      <th>bal</th>\n",
       "      <th>calls_6_mnth</th>\n",
       "      <th>logons_6_mnth</th>\n",
       "      <th>bal_category</th>\n",
       "      <th>account_since_child</th>\n",
       "    </tr>\n",
       "  </thead>\n",
       "  <tbody>\n",
       "    <tr>\n",
       "      <th>0</th>\n",
       "      <td>555</td>\n",
       "      <td>402506806_56087378777</td>\n",
       "      <td>637149525_38041617439_716659</td>\n",
       "      <td>start</td>\n",
       "      <td>2017-04-15 12:57:56</td>\n",
       "      <td>1</td>\n",
       "      <td>NaT</td>\n",
       "      <td>NaN</td>\n",
       "      <td>NaN</td>\n",
       "      <td>False</td>\n",
       "      <td>Test</td>\n",
       "      <td>3</td>\n",
       "      <td>29</td>\n",
       "      <td>U</td>\n",
       "      <td>2</td>\n",
       "      <td>25454.66</td>\n",
       "      <td>2</td>\n",
       "      <td>6</td>\n",
       "      <td>bajo</td>\n",
       "      <td>no</td>\n",
       "    </tr>\n",
       "    <tr>\n",
       "      <th>1</th>\n",
       "      <td>555</td>\n",
       "      <td>402506806_56087378777</td>\n",
       "      <td>637149525_38041617439_716659</td>\n",
       "      <td>step_1</td>\n",
       "      <td>2017-04-15 12:58:03</td>\n",
       "      <td>1</td>\n",
       "      <td>2017-04-15 12:57:56</td>\n",
       "      <td>7.0</td>\n",
       "      <td>start</td>\n",
       "      <td>False</td>\n",
       "      <td>Test</td>\n",
       "      <td>3</td>\n",
       "      <td>29</td>\n",
       "      <td>U</td>\n",
       "      <td>2</td>\n",
       "      <td>25454.66</td>\n",
       "      <td>2</td>\n",
       "      <td>6</td>\n",
       "      <td>bajo</td>\n",
       "      <td>no</td>\n",
       "    </tr>\n",
       "    <tr>\n",
       "      <th>2</th>\n",
       "      <td>555</td>\n",
       "      <td>402506806_56087378777</td>\n",
       "      <td>637149525_38041617439_716659</td>\n",
       "      <td>step_2</td>\n",
       "      <td>2017-04-15 12:58:35</td>\n",
       "      <td>1</td>\n",
       "      <td>2017-04-15 12:58:03</td>\n",
       "      <td>32.0</td>\n",
       "      <td>step_1</td>\n",
       "      <td>False</td>\n",
       "      <td>Test</td>\n",
       "      <td>3</td>\n",
       "      <td>29</td>\n",
       "      <td>U</td>\n",
       "      <td>2</td>\n",
       "      <td>25454.66</td>\n",
       "      <td>2</td>\n",
       "      <td>6</td>\n",
       "      <td>bajo</td>\n",
       "      <td>no</td>\n",
       "    </tr>\n",
       "  </tbody>\n",
       "</table>\n",
       "</div>"
      ],
      "text/plain": [
       "   client_id             visitor_id                      visit_id  \\\n",
       "0        555  402506806_56087378777  637149525_38041617439_716659   \n",
       "1        555  402506806_56087378777  637149525_38041617439_716659   \n",
       "2        555  402506806_56087378777  637149525_38041617439_716659   \n",
       "\n",
       "  process_step           date_time  is_complete    time_before_step  \\\n",
       "0        start 2017-04-15 12:57:56            1                 NaT   \n",
       "1       step_1 2017-04-15 12:58:03            1 2017-04-15 12:57:56   \n",
       "2       step_2 2017-04-15 12:58:35            1 2017-04-15 12:58:03   \n",
       "\n",
       "   time_diff_step prev_process_step  is_error Variation  clnt_tenure_yr  \\\n",
       "0             NaN               NaN     False      Test               3   \n",
       "1             7.0             start     False      Test               3   \n",
       "2            32.0            step_1     False      Test               3   \n",
       "\n",
       "   clnt_age gendr  num_accts       bal  calls_6_mnth  logons_6_mnth  \\\n",
       "0        29     U          2  25454.66             2              6   \n",
       "1        29     U          2  25454.66             2              6   \n",
       "2        29     U          2  25454.66             2              6   \n",
       "\n",
       "  bal_category account_since_child  \n",
       "0         bajo                  no  \n",
       "1         bajo                  no  \n",
       "2         bajo                  no  "
      ]
     },
     "execution_count": 10,
     "metadata": {},
     "output_type": "execute_result"
    }
   ],
   "source": [
    "df_final.head(3)"
   ]
  },
  {
   "cell_type": "code",
   "execution_count": 11,
   "metadata": {},
   "outputs": [
    {
     "name": "stdout",
     "output_type": "stream",
     "text": [
      "<class 'pandas.core.frame.DataFrame'>\n",
      "RangeIndex: 318614 entries, 0 to 318613\n",
      "Data columns (total 20 columns):\n",
      " #   Column               Non-Null Count   Dtype         \n",
      "---  ------               --------------   -----         \n",
      " 0   client_id            318614 non-null  int64         \n",
      " 1   visitor_id           318614 non-null  object        \n",
      " 2   visit_id             318614 non-null  object        \n",
      " 3   process_step         318614 non-null  category      \n",
      " 4   date_time            318614 non-null  datetime64[ns]\n",
      " 5   is_complete          318614 non-null  int64         \n",
      " 6   time_before_step     249751 non-null  datetime64[ns]\n",
      " 7   time_diff_step       249751 non-null  float64       \n",
      " 8   prev_process_step    249751 non-null  category      \n",
      " 9   is_error             318614 non-null  bool          \n",
      " 10  Variation            318614 non-null  object        \n",
      " 11  clnt_tenure_yr       318614 non-null  int32         \n",
      " 12  clnt_age             318614 non-null  int32         \n",
      " 13  gendr                318614 non-null  object        \n",
      " 14  num_accts            318614 non-null  int32         \n",
      " 15  bal                  318614 non-null  float64       \n",
      " 16  calls_6_mnth         318614 non-null  int32         \n",
      " 17  logons_6_mnth        318614 non-null  int32         \n",
      " 18  bal_category         318614 non-null  category      \n",
      " 19  account_since_child  318614 non-null  object        \n",
      "dtypes: bool(1), category(3), datetime64[ns](2), float64(2), int32(5), int64(2), object(5)\n",
      "memory usage: 34.0+ MB\n"
     ]
    }
   ],
   "source": [
    "df_final.info()"
   ]
  },
  {
   "cell_type": "markdown",
   "metadata": {},
   "source": [
    "# 3. KPIs"
   ]
  },
  {
   "cell_type": "markdown",
   "metadata": {},
   "source": [
    "## 3.1 Tasa de finalización"
   ]
  },
  {
   "cell_type": "code",
   "execution_count": 12,
   "metadata": {},
   "outputs": [
    {
     "data": {
      "text/html": [
       "<div>\n",
       "<style scoped>\n",
       "    .dataframe tbody tr th:only-of-type {\n",
       "        vertical-align: middle;\n",
       "    }\n",
       "\n",
       "    .dataframe tbody tr th {\n",
       "        vertical-align: top;\n",
       "    }\n",
       "\n",
       "    .dataframe thead th {\n",
       "        text-align: right;\n",
       "    }\n",
       "</style>\n",
       "<table border=\"1\" class=\"dataframe\">\n",
       "  <thead>\n",
       "    <tr style=\"text-align: right;\">\n",
       "      <th></th>\n",
       "      <th>Variation</th>\n",
       "      <th>Completed Clients</th>\n",
       "      <th>Incomplete Clients</th>\n",
       "      <th>Completion Rate (%)</th>\n",
       "      <th>Incompletion Rate (%)</th>\n",
       "    </tr>\n",
       "  </thead>\n",
       "  <tbody>\n",
       "    <tr>\n",
       "      <th>0</th>\n",
       "      <td>general</td>\n",
       "      <td>33807</td>\n",
       "      <td>23762</td>\n",
       "      <td>58.724313</td>\n",
       "      <td>41.275687</td>\n",
       "    </tr>\n",
       "    <tr>\n",
       "      <th>1</th>\n",
       "      <td>Control</td>\n",
       "      <td>15303</td>\n",
       "      <td>11952</td>\n",
       "      <td>56.147496</td>\n",
       "      <td>43.852504</td>\n",
       "    </tr>\n",
       "    <tr>\n",
       "      <th>2</th>\n",
       "      <td>Test</td>\n",
       "      <td>18504</td>\n",
       "      <td>11810</td>\n",
       "      <td>61.041103</td>\n",
       "      <td>38.958897</td>\n",
       "    </tr>\n",
       "  </tbody>\n",
       "</table>\n",
       "</div>"
      ],
      "text/plain": [
       "  Variation  Completed Clients  Incomplete Clients  Completion Rate (%)  \\\n",
       "0   general              33807               23762            58.724313   \n",
       "1   Control              15303               11952            56.147496   \n",
       "2      Test              18504               11810            61.041103   \n",
       "\n",
       "   Incompletion Rate (%)  \n",
       "0              41.275687  \n",
       "1              43.852504  \n",
       "2              38.958897  "
      ]
     },
     "execution_count": 12,
     "metadata": {},
     "output_type": "execute_result"
    }
   ],
   "source": [
    "completion_stats = calculate_completion_stats(df_final)\n",
    "completion_stats"
   ]
  },
  {
   "cell_type": "markdown",
   "metadata": {},
   "source": [
    "## 3.2 Tiempo en cada paso"
   ]
  },
  {
   "cell_type": "code",
   "execution_count": 13,
   "metadata": {},
   "outputs": [
    {
     "data": {
      "text/html": [
       "<div>\n",
       "<style scoped>\n",
       "    .dataframe tbody tr th:only-of-type {\n",
       "        vertical-align: middle;\n",
       "    }\n",
       "\n",
       "    .dataframe tbody tr th {\n",
       "        vertical-align: top;\n",
       "    }\n",
       "\n",
       "    .dataframe thead th {\n",
       "        text-align: right;\n",
       "    }\n",
       "</style>\n",
       "<table border=\"1\" class=\"dataframe\">\n",
       "  <thead>\n",
       "    <tr style=\"text-align: right;\">\n",
       "      <th></th>\n",
       "      <th>Variation</th>\n",
       "      <th>process_step</th>\n",
       "      <th>mean_time</th>\n",
       "      <th>min_time</th>\n",
       "      <th>max_time</th>\n",
       "      <th>num_entries</th>\n",
       "    </tr>\n",
       "  </thead>\n",
       "  <tbody>\n",
       "    <tr>\n",
       "      <th>0</th>\n",
       "      <td>Control</td>\n",
       "      <td>start</td>\n",
       "      <td>151.886076</td>\n",
       "      <td>0.0</td>\n",
       "      <td>40235.0</td>\n",
       "      <td>16590</td>\n",
       "    </tr>\n",
       "    <tr>\n",
       "      <th>1</th>\n",
       "      <td>Control</td>\n",
       "      <td>step_1</td>\n",
       "      <td>43.037307</td>\n",
       "      <td>0.0</td>\n",
       "      <td>4150.0</td>\n",
       "      <td>29137</td>\n",
       "    </tr>\n",
       "    <tr>\n",
       "      <th>2</th>\n",
       "      <td>Control</td>\n",
       "      <td>step_2</td>\n",
       "      <td>38.770338</td>\n",
       "      <td>0.0</td>\n",
       "      <td>1724.0</td>\n",
       "      <td>25555</td>\n",
       "    </tr>\n",
       "    <tr>\n",
       "      <th>3</th>\n",
       "      <td>Control</td>\n",
       "      <td>step_3</td>\n",
       "      <td>92.975700</td>\n",
       "      <td>0.0</td>\n",
       "      <td>3635.0</td>\n",
       "      <td>22428</td>\n",
       "    </tr>\n",
       "    <tr>\n",
       "      <th>4</th>\n",
       "      <td>Control</td>\n",
       "      <td>confirm</td>\n",
       "      <td>129.046178</td>\n",
       "      <td>0.0</td>\n",
       "      <td>9396.0</td>\n",
       "      <td>16588</td>\n",
       "    </tr>\n",
       "    <tr>\n",
       "      <th>5</th>\n",
       "      <td>Test</td>\n",
       "      <td>start</td>\n",
       "      <td>147.305936</td>\n",
       "      <td>0.0</td>\n",
       "      <td>24819.0</td>\n",
       "      <td>23263</td>\n",
       "    </tr>\n",
       "    <tr>\n",
       "      <th>6</th>\n",
       "      <td>Test</td>\n",
       "      <td>step_1</td>\n",
       "      <td>37.667716</td>\n",
       "      <td>0.0</td>\n",
       "      <td>3636.0</td>\n",
       "      <td>38115</td>\n",
       "    </tr>\n",
       "    <tr>\n",
       "      <th>7</th>\n",
       "      <td>Test</td>\n",
       "      <td>step_2</td>\n",
       "      <td>48.276693</td>\n",
       "      <td>0.0</td>\n",
       "      <td>1858.0</td>\n",
       "      <td>30561</td>\n",
       "    </tr>\n",
       "    <tr>\n",
       "      <th>8</th>\n",
       "      <td>Test</td>\n",
       "      <td>step_3</td>\n",
       "      <td>96.897236</td>\n",
       "      <td>0.0</td>\n",
       "      <td>1923.0</td>\n",
       "      <td>25398</td>\n",
       "    </tr>\n",
       "    <tr>\n",
       "      <th>9</th>\n",
       "      <td>Test</td>\n",
       "      <td>confirm</td>\n",
       "      <td>129.194520</td>\n",
       "      <td>0.0</td>\n",
       "      <td>14581.0</td>\n",
       "      <td>22116</td>\n",
       "    </tr>\n",
       "  </tbody>\n",
       "</table>\n",
       "</div>"
      ],
      "text/plain": [
       "  Variation process_step   mean_time  min_time  max_time  num_entries\n",
       "0   Control        start  151.886076       0.0   40235.0        16590\n",
       "1   Control       step_1   43.037307       0.0    4150.0        29137\n",
       "2   Control       step_2   38.770338       0.0    1724.0        25555\n",
       "3   Control       step_3   92.975700       0.0    3635.0        22428\n",
       "4   Control      confirm  129.046178       0.0    9396.0        16588\n",
       "5      Test        start  147.305936       0.0   24819.0        23263\n",
       "6      Test       step_1   37.667716       0.0    3636.0        38115\n",
       "7      Test       step_2   48.276693       0.0    1858.0        30561\n",
       "8      Test       step_3   96.897236       0.0    1923.0        25398\n",
       "9      Test      confirm  129.194520       0.0   14581.0        22116"
      ]
     },
     "execution_count": 13,
     "metadata": {},
     "output_type": "execute_result"
    }
   ],
   "source": [
    "time_stats = calculate_time_stats(df_final)\n",
    "time_stats"
   ]
  },
  {
   "cell_type": "markdown",
   "metadata": {},
   "source": [
    "## 3.3 Tasa de errores"
   ]
  },
  {
   "cell_type": "code",
   "execution_count": 14,
   "metadata": {},
   "outputs": [
    {
     "data": {
      "text/html": [
       "<div>\n",
       "<style scoped>\n",
       "    .dataframe tbody tr th:only-of-type {\n",
       "        vertical-align: middle;\n",
       "    }\n",
       "\n",
       "    .dataframe tbody tr th {\n",
       "        vertical-align: top;\n",
       "    }\n",
       "\n",
       "    .dataframe thead th {\n",
       "        text-align: right;\n",
       "    }\n",
       "</style>\n",
       "<table border=\"1\" class=\"dataframe\">\n",
       "  <thead>\n",
       "    <tr style=\"text-align: right;\">\n",
       "      <th></th>\n",
       "      <th>Group</th>\n",
       "      <th>Total Records</th>\n",
       "      <th>Total Errors</th>\n",
       "      <th>Error Rate (%)</th>\n",
       "    </tr>\n",
       "  </thead>\n",
       "  <tbody>\n",
       "    <tr>\n",
       "      <th>0</th>\n",
       "      <td>Control</td>\n",
       "      <td>142286</td>\n",
       "      <td>9545</td>\n",
       "      <td>6.71</td>\n",
       "    </tr>\n",
       "    <tr>\n",
       "      <th>1</th>\n",
       "      <td>Test</td>\n",
       "      <td>176328</td>\n",
       "      <td>16138</td>\n",
       "      <td>9.15</td>\n",
       "    </tr>\n",
       "  </tbody>\n",
       "</table>\n",
       "</div>"
      ],
      "text/plain": [
       "     Group  Total Records  Total Errors  Error Rate (%)\n",
       "0  Control         142286          9545            6.71\n",
       "1     Test         176328         16138            9.15"
      ]
     },
     "execution_count": 14,
     "metadata": {},
     "output_type": "execute_result"
    }
   ],
   "source": [
    "error_rate_stats = calculate_error_rate(df_final)\n",
    "error_rate_stats"
   ]
  },
  {
   "cell_type": "markdown",
   "metadata": {},
   "source": [
    "# 4. Prueba de hipotesis"
   ]
  },
  {
   "cell_type": "markdown",
   "metadata": {},
   "source": [
    "**1.4 Hipótesis de tasa de finalización**\n",
    "Dado que el nuevo diseño (grupo de prueba) tuvo una tasa de finalización más alta en comparación con el diseño anterior (grupo de control), debe confirmar si esta diferencia es estadísticamente significativa.\n",
    "\n",
    "**H0: La media de tasa de finalización entre grupos es igual**\n",
    "\n",
    "**H1: La media de tasa de finalización entre grupos es diferente**"
   ]
  },
  {
   "cell_type": "code",
   "execution_count": 15,
   "metadata": {},
   "outputs": [
    {
     "data": {
      "text/plain": [
       "{'z_statistic': 8.754041342564873,\n",
       " 'p_value': 1.0292281822361728e-18,\n",
       " 'decision': 'Rechaza la hipótesis nula: hay una diferencia significativa en las tasas de finalización.'}"
      ]
     },
     "execution_count": 15,
     "metadata": {},
     "output_type": "execute_result"
    }
   ],
   "source": [
    "hypothesis_testing_completion(df_final, alpha=0.05)"
   ]
  },
  {
   "cell_type": "markdown",
   "metadata": {},
   "source": [
    "**2.4 Hipótesis umbral costo - efectividad**\n",
    "\n",
    "Umbral : Vanguard ha establecido este aumento mínimo en la tasa de finalización en un 5 % . Se estima que esta es la tasa a la que los beneficios proyectados, en términos de mayor participación de los usuarios y posibles ingresos, superarán los costos del nuevo diseño.\n",
    "\n",
    "Se le solicita que realice otro análisis para asegurarse de que el aumento observado en la tasa de finalización de la prueba A/B cumpla o supere este umbral del 5 % . Si el nuevo diseño no genera al menos este nivel de mejora, es posible que no se justifique desde una perspectiva de costos, independientemente de su importancia estadística.\n",
    "\n",
    "**H0: El aumento de la tasa de finalización no alcanza el umbral del 5%**\n",
    "\n",
    "**H1: El aumento en la tasa de finalización es significativo y cumple el umbral del 5%**"
   ]
  },
  {
   "cell_type": "code",
   "execution_count": 16,
   "metadata": {},
   "outputs": [
    {
     "data": {
      "text/plain": [
       "{'z_statistic': -159.46225476798637,\n",
       " 'p_value': 1.0,\n",
       " 'decision': 'No se rechaza la hipótesis nula: el aumento en la tasa de completación no cumple con el umbral del 5%.'}"
      ]
     },
     "execution_count": 16,
     "metadata": {},
     "output_type": "execute_result"
    }
   ],
   "source": [
    "hypothesis_testing_with_threshold(df_final, cost_effectiveness_threshold=0.05, alpha=0.05)"
   ]
  },
  {
   "cell_type": "markdown",
   "metadata": {},
   "source": [
    "**3.4 Hipotesis diferencias de tiempos por pasos**\n",
    "\n",
    "Se realiza una prueba de hipótesis para comparar las medias de duración por paso entre los grupos Control y Test\n",
    "\n",
    "**H0: La media de duuracion por pasos entre los grupos son iguales**\n",
    "\n",
    "**H1: La media de duracion por pasos entre los grupos son diferentes**"
   ]
  },
  {
   "cell_type": "code",
   "execution_count": 17,
   "metadata": {},
   "outputs": [
    {
     "data": {
      "text/html": [
       "<div>\n",
       "<style scoped>\n",
       "    .dataframe tbody tr th:only-of-type {\n",
       "        vertical-align: middle;\n",
       "    }\n",
       "\n",
       "    .dataframe tbody tr th {\n",
       "        vertical-align: top;\n",
       "    }\n",
       "\n",
       "    .dataframe thead th {\n",
       "        text-align: right;\n",
       "    }\n",
       "</style>\n",
       "<table border=\"1\" class=\"dataframe\">\n",
       "  <thead>\n",
       "    <tr style=\"text-align: right;\">\n",
       "      <th></th>\n",
       "      <th>process_step</th>\n",
       "      <th>Control Mean Time</th>\n",
       "      <th>Test Mean Time</th>\n",
       "      <th>T-Statistic</th>\n",
       "      <th>P-Value</th>\n",
       "      <th>Alpha</th>\n",
       "      <th>Decision</th>\n",
       "    </tr>\n",
       "  </thead>\n",
       "  <tbody>\n",
       "    <tr>\n",
       "      <th>0</th>\n",
       "      <td>start</td>\n",
       "      <td>151.89</td>\n",
       "      <td>147.31</td>\n",
       "      <td>1.0066</td>\n",
       "      <td>0.3142</td>\n",
       "      <td>0.05</td>\n",
       "      <td>No se rechaza H₀</td>\n",
       "    </tr>\n",
       "    <tr>\n",
       "      <th>1</th>\n",
       "      <td>step_1</td>\n",
       "      <td>43.04</td>\n",
       "      <td>37.67</td>\n",
       "      <td>6.9414</td>\n",
       "      <td>0.0000</td>\n",
       "      <td>0.05</td>\n",
       "      <td>Se rechaza H₀</td>\n",
       "    </tr>\n",
       "    <tr>\n",
       "      <th>2</th>\n",
       "      <td>step_2</td>\n",
       "      <td>38.77</td>\n",
       "      <td>48.28</td>\n",
       "      <td>-13.4010</td>\n",
       "      <td>0.0000</td>\n",
       "      <td>0.05</td>\n",
       "      <td>Se rechaza H₀</td>\n",
       "    </tr>\n",
       "    <tr>\n",
       "      <th>3</th>\n",
       "      <td>step_3</td>\n",
       "      <td>92.98</td>\n",
       "      <td>96.90</td>\n",
       "      <td>-3.5658</td>\n",
       "      <td>0.0004</td>\n",
       "      <td>0.05</td>\n",
       "      <td>Se rechaza H₀</td>\n",
       "    </tr>\n",
       "    <tr>\n",
       "      <th>4</th>\n",
       "      <td>confirm</td>\n",
       "      <td>129.05</td>\n",
       "      <td>129.19</td>\n",
       "      <td>-0.0668</td>\n",
       "      <td>0.9467</td>\n",
       "      <td>0.05</td>\n",
       "      <td>No se rechaza H₀</td>\n",
       "    </tr>\n",
       "  </tbody>\n",
       "</table>\n",
       "</div>"
      ],
      "text/plain": [
       "  process_step  Control Mean Time  Test Mean Time  T-Statistic  P-Value  \\\n",
       "0        start             151.89          147.31       1.0066   0.3142   \n",
       "1       step_1              43.04           37.67       6.9414   0.0000   \n",
       "2       step_2              38.77           48.28     -13.4010   0.0000   \n",
       "3       step_3              92.98           96.90      -3.5658   0.0004   \n",
       "4      confirm             129.05          129.19      -0.0668   0.9467   \n",
       "\n",
       "   Alpha          Decision  \n",
       "0   0.05  No se rechaza H₀  \n",
       "1   0.05     Se rechaza H₀  \n",
       "2   0.05     Se rechaza H₀  \n",
       "3   0.05     Se rechaza H₀  \n",
       "4   0.05  No se rechaza H₀  "
      ]
     },
     "execution_count": 17,
     "metadata": {},
     "output_type": "execute_result"
    }
   ],
   "source": [
    "hypothesis_test_time_stats(df_final, alpha=0.05)"
   ]
  },
  {
   "cell_type": "markdown",
   "metadata": {},
   "source": [
    "**3.5 Hipotesis diferencias en tasas de error**\n",
    "\n",
    "Se realiza una prueba de hipótesis para comparar las tasas de error entre los grupos Control y Test\n",
    "\n",
    "**H0: La tasa de error entre los grupos son iguales**\n",
    "\n",
    "**H1: La tasa entre los grupos son diferentes**"
   ]
  },
  {
   "cell_type": "code",
   "execution_count": 18,
   "metadata": {},
   "outputs": [
    {
     "data": {
      "text/plain": [
       "{'Control Error Rate (%)': 6.71,\n",
       " 'Test Error Rate (%)': 9.15,\n",
       " 'Z-Statistic': -25.1918,\n",
       " 'P-Value': 0.0,\n",
       " 'Alpha': 0.05,\n",
       " 'Decision': 'Se rechaza H₀',\n",
       " 'Explanation': 'Las diferencias en las tasas de error son estadísticamente significativas'}"
      ]
     },
     "execution_count": 18,
     "metadata": {},
     "output_type": "execute_result"
    }
   ],
   "source": [
    "hypothesis_test_error_rate(df_final, alpha=0.05)"
   ]
  },
  {
   "cell_type": "markdown",
   "metadata": {},
   "source": [
    "**3.6 Hipotesis Edad por grupos**\n",
    "\n",
    "Evaluar si ha existido diferencia entre las edades por grupo \n",
    "\n",
    "**H0 : No hubo diferencia entre las edades de los grupos**\n",
    "\n",
    "**H1 : Si hubo diferencia entre las edades de los grupos**"
   ]
  },
  {
   "cell_type": "code",
   "execution_count": 19,
   "metadata": {},
   "outputs": [
    {
     "data": {
      "text/plain": [
       "{'t_statistic': -0.3368883107328185,\n",
       " 'p_value': 0.7362364795738359,\n",
       " 'decision': 'No se rechaza la hipótesis nula: no hay una diferencia significativa entre los grupos.'}"
      ]
     },
     "execution_count": 19,
     "metadata": {},
     "output_type": "execute_result"
    }
   ],
   "source": [
    "df_test = df_final[df_final['Variation'] == 'Test']\n",
    "df_control = df_final[df_final['Variation'] == 'Control']\n",
    "hypothesis_testing(df_test, df_control, \"clnt_age\", alpha=0.05)"
   ]
  },
  {
   "cell_type": "markdown",
   "metadata": {},
   "source": [
    "**3.7 Hipotesis Tiempo de permanencia por grupos**\n",
    "\n",
    "Evaluar si ha existido diferencia entre las edades por grupo \n",
    "\n",
    "**H0 : No hubo diferencia entre el tiempo de permanencia de los grupos**\n",
    "\n",
    "**H1 : Si hubo diferencia entre el tiempo de permanencia de los grupos**"
   ]
  },
  {
   "cell_type": "code",
   "execution_count": 20,
   "metadata": {},
   "outputs": [
    {
     "data": {
      "text/plain": [
       "{'t_statistic': -0.3754411672192049,\n",
       " 'p_value': 0.7073722458536124,\n",
       " 'decision': 'No se rechaza la hipótesis nula: no hay una diferencia significativa entre los grupos.'}"
      ]
     },
     "execution_count": 20,
     "metadata": {},
     "output_type": "execute_result"
    }
   ],
   "source": [
    "hypothesis_testing(df_test, df_control, \"clnt_tenure_yr\", alpha=0.05)"
   ]
  }
 ],
 "metadata": {
  "kernelspec": {
   "display_name": "envpython3.11",
   "language": "python",
   "name": "python3"
  },
  "language_info": {
   "codemirror_mode": {
    "name": "ipython",
    "version": 3
   },
   "file_extension": ".py",
   "mimetype": "text/x-python",
   "name": "python",
   "nbconvert_exporter": "python",
   "pygments_lexer": "ipython3",
   "version": "3.11.9"
  }
 },
 "nbformat": 4,
 "nbformat_minor": 2
}
